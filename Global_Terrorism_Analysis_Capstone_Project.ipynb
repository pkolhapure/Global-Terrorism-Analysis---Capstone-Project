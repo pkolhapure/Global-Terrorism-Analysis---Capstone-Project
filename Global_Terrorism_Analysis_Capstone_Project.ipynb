{
  "cells": [
    {
      "cell_type": "code",
      "execution_count": 4,
      "metadata": {
        "id": "ld3g6hXokWIg"
      },
      "outputs": [],
      "source": [
        "# importing important libraries\n",
        "import numpy as np\n",
        "import pandas as pd\n",
        "import matplotlib.pyplot as plt\n",
        "import seaborn as sns"
      ]
    },
    {
      "cell_type": "code",
      "source": [
        "from google.colab import drive\n",
        "drive.mount('/content/drive')"
      ],
      "metadata": {
        "colab": {
          "base_uri": "https://localhost:8080/"
        },
        "id": "SauwKw27k5YV",
        "outputId": "39cbd023-f066-4c0e-b117-8b2f0147832f"
      },
      "execution_count": 5,
      "outputs": [
        {
          "output_type": "stream",
          "name": "stdout",
          "text": [
            "Drive already mounted at /content/drive; to attempt to forcibly remount, call drive.mount(\"/content/drive\", force_remount=True).\n"
          ]
        }
      ]
    },
    {
      "cell_type": "code",
      "execution_count": 6,
      "metadata": {
        "id": "A2aWT7YIMoer",
        "colab": {
          "base_uri": "https://localhost:8080/"
        },
        "outputId": "9f734c24-b106-4513-c4fe-f61e4e157217"
      },
      "outputs": [
        {
          "output_type": "stream",
          "name": "stderr",
          "text": [
            "/usr/local/lib/python3.7/dist-packages/IPython/core/interactiveshell.py:3326: DtypeWarning: Columns (4,6,31,33,61,62,63,76,79,90,92,94,96,114,115,121) have mixed types.Specify dtype option on import or set low_memory=False.\n",
            "  exec(code_obj, self.user_global_ns, self.user_ns)\n"
          ]
        }
      ],
      "source": [
        "# reading the dataset\n",
        "terrorism_df=pd.read_csv('/content/drive/MyDrive/Copy of Global Terrorism Data.csv', encoding='latin1')"
      ]
    },
    {
      "cell_type": "markdown",
      "metadata": {
        "id": "M3n0rsGpkWI8"
      },
      "source": [
        "## Basic Data lookup"
      ]
    },
    {
      "cell_type": "code",
      "execution_count": 7,
      "metadata": {
        "id": "-GCct_UJMoyL",
        "colab": {
          "base_uri": "https://localhost:8080/"
        },
        "outputId": "65adaf2d-71ec-4cd1-c2e4-5292b65cd862"
      },
      "outputs": [
        {
          "output_type": "execute_result",
          "data": {
            "text/plain": [
              "(181691, 135)"
            ]
          },
          "metadata": {},
          "execution_count": 7
        }
      ],
      "source": [
        "# checking the dimensionality of the data\n",
        "terrorism_df.shape"
      ]
    },
    {
      "cell_type": "code",
      "execution_count": 7,
      "metadata": {
        "id": "2L8gPilGkWJH"
      },
      "outputs": [],
      "source": []
    },
    {
      "cell_type": "markdown",
      "metadata": {
        "id": "1FejGUKZkWJI"
      },
      "source": [
        "## Data prepration (Missing value treatment, removing unwanted columns, selection of features)"
      ]
    },
    {
      "cell_type": "code",
      "execution_count": 8,
      "metadata": {
        "id": "HKjdrZ8pMo7I"
      },
      "outputs": [],
      "source": [
        "# getting the missing values \n",
        "miss = (terrorism_df.isnull().sum() / terrorism_df.shape[0]).sort_values(ascending = False)"
      ]
    },
    {
      "cell_type": "code",
      "execution_count": 9,
      "metadata": {
        "id": "AQuqCqXSMpDP",
        "colab": {
          "base_uri": "https://localhost:8080/"
        },
        "outputId": "a010ddbf-72ab-437e-a97f-e428cca0ce39"
      },
      "outputs": [
        {
          "output_type": "execute_result",
          "data": {
            "text/plain": [
              "0.5037037037037037"
            ]
          },
          "metadata": {},
          "execution_count": 9
        }
      ],
      "source": [
        "# getting all the feature names which are missing more than 80%\n",
        "miss[miss > 0.80].shape[0] / len(terrorism_df.columns)"
      ]
    },
    {
      "cell_type": "code",
      "execution_count": 10,
      "metadata": {
        "id": "WoT4su9TMpOn"
      },
      "outputs": [],
      "source": [
        "# dropping all the features with above 80% missing values\n",
        "terrorism_df = terrorism_df.drop(miss[miss > 0.80].index, axis = 1)"
      ]
    },
    {
      "cell_type": "code",
      "execution_count": 11,
      "metadata": {
        "id": "ylfVWDskBFlq",
        "colab": {
          "base_uri": "https://localhost:8080/"
        },
        "outputId": "81f81023-fd5e-4ad7-ad54-044e979c4926"
      },
      "outputs": [
        {
          "output_type": "execute_result",
          "data": {
            "text/plain": [
              "(181691, 67)"
            ]
          },
          "metadata": {},
          "execution_count": 11
        }
      ],
      "source": [
        "# rechecking the shape of data\n",
        "terrorism_df.shape"
      ]
    },
    {
      "cell_type": "code",
      "execution_count": 11,
      "metadata": {
        "id": "wUPIhkDBkWJa"
      },
      "outputs": [],
      "source": []
    },
    {
      "cell_type": "code",
      "execution_count": 12,
      "metadata": {
        "id": "5A6TbhB5kWJc"
      },
      "outputs": [],
      "source": [
        "# renaming the data columns according to there actual behaviour and use\n",
        "terrorism_df=terrorism_df.rename(columns={'iyear':'Year','imonth':'Month','iday':'Day','country_txt':'Country','region_txt':'Region',\n",
        "                             'provstate':'State','city':'City','attacktype1_txt':'Attack_type','targtype1_txt':'Target_type',\n",
        "                             'targsubtype1_txt':'Target_subtype','gname':'Gang_name','weaptype1_txt':'Weapon_type'})"
      ]
    },
    {
      "cell_type": "code",
      "execution_count": 13,
      "metadata": {
        "id": "_ih-VQqkkWJf"
      },
      "outputs": [],
      "source": [
        "# feature selection for study\n",
        "# selecting only those columns which are required for further EDA\n",
        "terrorism_df=terrorism_df[['Year','Month','Day','Country','Region','State',\n",
        "                           'City','Attack_type','Target_type','Target_subtype','Gang_name','Weapon_type']]"
      ]
    },
    {
      "cell_type": "code",
      "execution_count": 13,
      "metadata": {
        "id": "vM1ZFmwUkWJi"
      },
      "outputs": [],
      "source": []
    },
    {
      "cell_type": "code",
      "execution_count": 14,
      "metadata": {
        "id": "Z3jBwrBPkWJj"
      },
      "outputs": [],
      "source": [
        "# missing value treatment and cleaning the data\n",
        "terrorism_df['Target_subtype'] = terrorism_df['Target_subtype'].fillna('others')\n",
        "terrorism_df['State']=terrorism_df['State'].fillna('Unknown')\n",
        "terrorism_df['City']=terrorism_df['City'].fillna('Unknown')\n",
        "\n",
        "# replacing the odd values with Vehicle\n",
        "terrorism_df.replace( {\"Vehicle (not to include vehicle-borne explosives, i.e., car or truck bombs)\": \"Vehicle\"},inplace = True)"
      ]
    },
    {
      "cell_type": "code",
      "execution_count": 15,
      "metadata": {
        "colab": {
          "base_uri": "https://localhost:8080/"
        },
        "id": "7YyXjmWRkWJk",
        "outputId": "c16c103e-d258-4642-8800-54281d88be73"
      },
      "outputs": [
        {
          "output_type": "execute_result",
          "data": {
            "text/plain": [
              "Year              0\n",
              "Month             0\n",
              "Day               0\n",
              "Country           0\n",
              "Region            0\n",
              "State             0\n",
              "City              0\n",
              "Attack_type       0\n",
              "Target_type       0\n",
              "Target_subtype    0\n",
              "Gang_name         0\n",
              "Weapon_type       0\n",
              "dtype: int64"
            ]
          },
          "metadata": {},
          "execution_count": 15
        }
      ],
      "source": [
        "# rechecking the null values\n",
        "terrorism_df.isnull().sum()"
      ]
    },
    {
      "cell_type": "code",
      "source": [
        "terrorism_df['Country'].unique()"
      ],
      "metadata": {
        "colab": {
          "base_uri": "https://localhost:8080/"
        },
        "id": "R26UqKx4n94p",
        "outputId": "0a26cbc1-d9c6-48e2-d731-c0646a76ed86"
      },
      "execution_count": 42,
      "outputs": [
        {
          "output_type": "execute_result",
          "data": {
            "text/plain": [
              "array(['Dominican Republic', 'Mexico', 'Philippines', 'Greece', 'Japan',\n",
              "       'United States', 'Uruguay', 'Italy', 'East Germany (GDR)',\n",
              "       'Ethiopia', 'Guatemala', 'Venezuela', 'West Germany (FRG)',\n",
              "       'Switzerland', 'Jordan', 'Spain', 'Brazil', 'Egypt', 'Argentina',\n",
              "       'Lebanon', 'Ireland', 'Turkey', 'Paraguay', 'Iran',\n",
              "       'United Kingdom', 'Colombia', 'Bolivia', 'Nicaragua',\n",
              "       'Netherlands', 'Belgium', 'Canada', 'Australia', 'Pakistan',\n",
              "       'Zambia', 'Sweden', 'Costa Rica', 'South Yemen', 'Cambodia',\n",
              "       'Israel', 'Poland', 'Taiwan', 'Panama', 'Kuwait',\n",
              "       'West Bank and Gaza Strip', 'Austria', 'Czechoslovakia', 'India',\n",
              "       'France', 'South Vietnam', 'Brunei', 'Zaire',\n",
              "       \"People's Republic of the Congo\", 'Portugal', 'Algeria',\n",
              "       'El Salvador', 'Thailand', 'Haiti', 'Sudan', 'Morocco', 'Cyprus',\n",
              "       'Myanmar', 'Afghanistan', 'Peru', 'Chile', 'Honduras',\n",
              "       'Yugoslavia', 'Ecuador', 'New Zealand', 'Malaysia', 'Singapore',\n",
              "       'Botswana', 'Jamaica', 'Chad', 'North Yemen', 'Andorra', 'Syria',\n",
              "       'South Korea', 'United Arab Emirates', 'South Africa', 'Kenya',\n",
              "       'Iraq', 'Somalia', 'Tanzania', 'Sri Lanka', 'Namibia', 'Bahamas',\n",
              "       'Nigeria', 'Barbados', 'Trinidad and Tobago', 'Bangladesh',\n",
              "       'Angola', 'Mauritania', 'Saudi Arabia', 'Djibouti', 'Indonesia',\n",
              "       'Malta', 'Rhodesia', 'Soviet Union', 'Denmark', 'Western Sahara',\n",
              "       'Guyana', 'Mozambique', 'Tunisia', 'Uganda', 'Norway', 'Lesotho',\n",
              "       'Gabon', 'Libya', 'Bahrain', 'Hong Kong', 'Senegal', 'Zimbabwe',\n",
              "       'Guinea', 'Grenada', 'New Hebrides', 'Belize', 'Guadeloupe',\n",
              "       'Martinique', 'Vatican City', 'Albania',\n",
              "       'Central African Republic', 'Seychelles', 'Dominica', 'Qatar',\n",
              "       'Bulgaria', 'Suriname', 'Swaziland', 'Luxembourg', 'Iceland',\n",
              "       'French Guiana', 'Falkland Islands', 'Burkina Faso',\n",
              "       'New Caledonia', 'Romania', 'Niger', 'Nepal', 'Togo', 'Finland',\n",
              "       'Fiji', 'Ghana', 'Maldives', 'Mauritius', 'Hungary', 'Laos',\n",
              "       'Papua New Guinea', 'China', 'Liberia', 'Republic of the Congo',\n",
              "       'Mali', 'Germany', 'Yemen', 'Rwanda', 'Sierra Leone', 'Cameroon',\n",
              "       'Cuba', 'Croatia', 'Georgia', 'Azerbaijan', 'Madagascar',\n",
              "       'Lithuania', 'Burundi', 'Ukraine', 'Moldova', 'Armenia', 'Russia',\n",
              "       'Ivory Coast', 'Kazakhstan', 'Antigua and Barbuda',\n",
              "       'Bosnia-Herzegovina', 'Equatorial Guinea', 'Tajikistan', 'Malawi',\n",
              "       'Uzbekistan', 'Latvia', 'Estonia', 'Vietnam', 'Comoros', 'Benin',\n",
              "       'Slovak Republic', 'Macedonia', 'Wallis and Futuna', 'Belarus',\n",
              "       'Czech Republic', 'Slovenia', 'Gambia', 'North Korea', 'Eritrea',\n",
              "       'St. Kitts and Nevis', 'French Polynesia', 'Macau', 'Kyrgyzstan',\n",
              "       'Vanuatu', 'Democratic Republic of the Congo', 'Kosovo',\n",
              "       'Solomon Islands', 'East Timor', 'St. Lucia', 'Guinea-Bissau',\n",
              "       'Montenegro', 'International', 'Turkmenistan', 'Serbia-Montenegro',\n",
              "       'Bhutan', 'Serbia', 'South Sudan'], dtype=object)"
            ]
          },
          "metadata": {},
          "execution_count": 42
        }
      ]
    },
    {
      "cell_type": "code",
      "execution_count": 40,
      "metadata": {
        "colab": {
          "base_uri": "https://localhost:8080/"
        },
        "id": "mnz6MgBukWJm",
        "outputId": "0f220c76-bcc4-488c-ff54-86392a27bd40"
      },
      "outputs": [
        {
          "output_type": "execute_result",
          "data": {
            "text/plain": [
              "(1970, 2017, (47,))"
            ]
          },
          "metadata": {},
          "execution_count": 40
        }
      ],
      "source": [
        "terrorism_df['Year'].min(), terrorism_df['Year'].max(), terrorism_df['Year'].unique().shape"
      ]
    },
    {
      "cell_type": "markdown",
      "metadata": {
        "id": "CLSoxeVMkWJm"
      },
      "source": [
        "## Data analysis"
      ]
    },
    {
      "cell_type": "code",
      "execution_count": 16,
      "metadata": {
        "colab": {
          "base_uri": "https://localhost:8080/"
        },
        "id": "s5KCUwxPkWJo",
        "outputId": "8731fe96-e375-417d-f314-0d38cf6e665b"
      },
      "outputs": [
        {
          "output_type": "stream",
          "name": "stdout",
          "text": [
            "Total 205 countries were noted in the data\n"
          ]
        }
      ],
      "source": [
        "Total_countries=terrorism_df['Country'].nunique()\n",
        "print(\"Total %d countries were noted in the data\"%Total_countries)"
      ]
    },
    {
      "cell_type": "code",
      "execution_count": 17,
      "metadata": {
        "colab": {
          "base_uri": "https://localhost:8080/"
        },
        "id": "Hge48DOokWJp",
        "outputId": "1ecbfe2b-93db-4677-9d0b-4c8e37edfa08"
      },
      "outputs": [
        {
          "output_type": "stream",
          "name": "stdout",
          "text": [
            "Total number of regions available in data: \n",
            " ['Central America & Caribbean' 'North America' 'Southeast Asia'\n",
            " 'Western Europe' 'East Asia' 'South America' 'Eastern Europe'\n",
            " 'Sub-Saharan Africa' 'Middle East & North Africa' 'Australasia & Oceania'\n",
            " 'South Asia' 'Central Asia']\n"
          ]
        }
      ],
      "source": [
        "print(\"Total number of regions available in data: \\n\", terrorism_df['Region'].unique())"
      ]
    },
    {
      "cell_type": "code",
      "execution_count": 18,
      "metadata": {
        "colab": {
          "base_uri": "https://localhost:8080/"
        },
        "id": "mLeKqk1LkWJs",
        "outputId": "77baca02-c974-49ea-9a13-8d5ebbb6c5d0"
      },
      "outputs": [
        {
          "output_type": "stream",
          "name": "stdout",
          "text": [
            "['Assassination' 'Hostage Taking (Kidnapping)' 'Bombing/Explosion'\n",
            " 'Facility/Infrastructure Attack' 'Armed Assault' 'Hijacking' 'Unknown'\n",
            " 'Unarmed Assault' 'Hostage Taking (Barricade Incident)']\n"
          ]
        }
      ],
      "source": [
        "print(terrorism_df['Attack_type'].unique())"
      ]
    },
    {
      "cell_type": "code",
      "execution_count": 19,
      "metadata": {
        "colab": {
          "base_uri": "https://localhost:8080/"
        },
        "id": "VQ5_bCz1kWJt",
        "outputId": "7d46a9f1-d4ef-4237-913d-bca83f8f9dcd"
      },
      "outputs": [
        {
          "output_type": "stream",
          "name": "stdout",
          "text": [
            "['Private Citizens & Property' 'Government (Diplomatic)'\n",
            " 'Journalists & Media' 'Police' 'Utilities' 'Military'\n",
            " 'Government (General)' 'Airports & Aircraft' 'Business'\n",
            " 'Educational Institution' 'Violent Political Party'\n",
            " 'Religious Figures/Institutions' 'Unknown' 'Transportation' 'Tourists'\n",
            " 'NGO' 'Telecommunication' 'Food or Water Supply'\n",
            " 'Terrorists/Non-State Militia' 'Other' 'Maritime' 'Abortion Related']\n"
          ]
        }
      ],
      "source": [
        "print(terrorism_df['Target_type'].unique())"
      ]
    },
    {
      "cell_type": "code",
      "execution_count": 20,
      "metadata": {
        "colab": {
          "base_uri": "https://localhost:8080/"
        },
        "id": "tEK8d4XKkWJv",
        "outputId": "339f9963-4d6e-42b3-a086-2c4b06d16296"
      },
      "outputs": [
        {
          "output_type": "stream",
          "name": "stdout",
          "text": [
            "(3537,)\n"
          ]
        }
      ],
      "source": [
        "print(terrorism_df['Gang_name'].unique().shape)"
      ]
    },
    {
      "cell_type": "code",
      "execution_count": 21,
      "metadata": {
        "colab": {
          "base_uri": "https://localhost:8080/"
        },
        "id": "Q5VHSFtEkWJx",
        "outputId": "65a30996-fcfd-4083-f9eb-62d548015851"
      },
      "outputs": [
        {
          "output_type": "stream",
          "name": "stdout",
          "text": [
            "['Unknown' 'Explosives' 'Incendiary' 'Firearms' 'Chemical' 'Melee'\n",
            " 'Sabotage Equipment' 'Vehicle' 'Fake Weapons' 'Radiological' 'Other'\n",
            " 'Biological']\n"
          ]
        }
      ],
      "source": [
        "print(terrorism_df['Weapon_type'].unique())"
      ]
    },
    {
      "cell_type": "code",
      "execution_count": 22,
      "metadata": {
        "colab": {
          "base_uri": "https://localhost:8080/"
        },
        "id": "LEwo3WQxkWJy",
        "outputId": "cce39f45-a06d-4e3b-9993-b7f666bcec66"
      },
      "outputs": [
        {
          "output_type": "execute_result",
          "data": {
            "text/plain": [
              "Iraq              24636\n",
              "Pakistan          14368\n",
              "Afghanistan       12731\n",
              "India             11960\n",
              "Colombia           8306\n",
              "Philippines        6908\n",
              "Peru               6096\n",
              "El Salvador        5320\n",
              "United Kingdom     5235\n",
              "Turkey             4292\n",
              "Name: Country, dtype: int64"
            ]
          },
          "metadata": {},
          "execution_count": 22
        }
      ],
      "source": [
        "# top 10 most affected countries by terror attack\n",
        "terrorism_df['Country'].value_counts().head(10)"
      ]
    },
    {
      "cell_type": "code",
      "execution_count": 23,
      "metadata": {
        "colab": {
          "base_uri": "https://localhost:8080/"
        },
        "id": "r_SYzatlkWJz",
        "outputId": "2deedfe5-3349-483e-d3ec-661aa8b86c02"
      },
      "outputs": [
        {
          "output_type": "execute_result",
          "data": {
            "text/plain": [
              "Middle East & North Africa     50474\n",
              "South Asia                     44974\n",
              "South America                  18978\n",
              "Sub-Saharan Africa             17550\n",
              "Western Europe                 16639\n",
              "Southeast Asia                 12485\n",
              "Central America & Caribbean    10344\n",
              "Eastern Europe                  5144\n",
              "North America                   3456\n",
              "East Asia                        802\n",
              "Name: Region, dtype: int64"
            ]
          },
          "metadata": {},
          "execution_count": 23
        }
      ],
      "source": [
        "# top 10 most affected Regions by terror attack\n",
        "terrorism_df['Region'].value_counts().head(10)"
      ]
    },
    {
      "cell_type": "code",
      "execution_count": 24,
      "metadata": {
        "colab": {
          "base_uri": "https://localhost:8080/"
        },
        "id": "-6nqsWzFkWJ0",
        "outputId": "7e6a5e27-5b20-4d6b-867c-e759178c11ba"
      },
      "outputs": [
        {
          "output_type": "execute_result",
          "data": {
            "text/plain": [
              "Baghdad               7645\n",
              "Northern Ireland      4498\n",
              "Balochistan           3710\n",
              "Saladin               3411\n",
              "Al Anbar              3299\n",
              "Nineveh               3241\n",
              "Sindh                 3206\n",
              "Khyber Pakhtunkhwa    3084\n",
              "Diyala                3041\n",
              "Lima                  2615\n",
              "Name: State, dtype: int64"
            ]
          },
          "metadata": {},
          "execution_count": 24
        }
      ],
      "source": [
        "# top 10 most affected State by terror attack\n",
        "terrorism_df['State'].value_counts().head(11).drop('Unknown')"
      ]
    },
    {
      "cell_type": "code",
      "execution_count": 25,
      "metadata": {
        "colab": {
          "base_uri": "https://localhost:8080/"
        },
        "id": "aMOXa54mkWJ1",
        "outputId": "28aadc48-78c4-4218-c3ea-0155cc75cc84"
      },
      "outputs": [
        {
          "output_type": "execute_result",
          "data": {
            "text/plain": [
              "Baghdad         7589\n",
              "Karachi         2652\n",
              "Lima            2359\n",
              "Mosul           2265\n",
              "Belfast         2171\n",
              "Santiago        1621\n",
              "Mogadishu       1581\n",
              "San Salvador    1558\n",
              "Istanbul        1048\n",
              "Athens          1019\n",
              "Name: City, dtype: int64"
            ]
          },
          "metadata": {},
          "execution_count": 25
        }
      ],
      "source": [
        "# top 10 most affected State by terror attack\n",
        "terrorism_df['City'].value_counts().head(11).drop('Unknown')"
      ]
    },
    {
      "cell_type": "code",
      "execution_count": 26,
      "metadata": {
        "colab": {
          "base_uri": "https://localhost:8080/"
        },
        "id": "yH3pau-zkWJ2",
        "outputId": "b1f2694f-6f74-4475-9c66-074923e951c3"
      },
      "outputs": [
        {
          "output_type": "execute_result",
          "data": {
            "text/plain": [
              "Bombing/Explosion                      88255\n",
              "Armed Assault                          42669\n",
              "Assassination                          19312\n",
              "Hostage Taking (Kidnapping)            11158\n",
              "Facility/Infrastructure Attack         10356\n",
              "Unarmed Assault                         1015\n",
              "Hostage Taking (Barricade Incident)      991\n",
              "Hijacking                                659\n",
              "Name: Attack_type, dtype: int64"
            ]
          },
          "metadata": {},
          "execution_count": 26
        }
      ],
      "source": [
        "# top 10 most affected Attack type by terror attack\n",
        "terrorism_df['Attack_type'].value_counts().head(11).drop('Unknown')"
      ]
    },
    {
      "cell_type": "code",
      "execution_count": 27,
      "metadata": {
        "colab": {
          "base_uri": "https://localhost:8080/"
        },
        "id": "LMsX3dQ0kWJ3",
        "outputId": "f9f7fb2a-ef53-4e02-9a28-b660097ba70c"
      },
      "outputs": [
        {
          "output_type": "execute_result",
          "data": {
            "text/plain": [
              "Private Citizens & Property       43511\n",
              "Military                          27984\n",
              "Police                            24506\n",
              "Government (General)              21283\n",
              "Business                          20669\n",
              "Transportation                     6799\n",
              "Utilities                          6023\n",
              "Religious Figures/Institutions     4440\n",
              "Educational Institution            4322\n",
              "Name: Target_type, dtype: int64"
            ]
          },
          "metadata": {},
          "execution_count": 27
        }
      ],
      "source": [
        "# top 10 most affected target type by terror attack\n",
        "terrorism_df['Target_type'].value_counts().head(10).drop('Unknown')"
      ]
    },
    {
      "cell_type": "code",
      "execution_count": 28,
      "metadata": {
        "colab": {
          "base_uri": "https://localhost:8080/"
        },
        "id": "UJWmCA55kWJ4",
        "outputId": "9c5bf47f-df6e-4913-acc3-1470e2422317"
      },
      "outputs": [
        {
          "output_type": "execute_result",
          "data": {
            "text/plain": [
              "Unknown                                             82782\n",
              "Taliban                                              7478\n",
              "Islamic State of Iraq and the Levant (ISIL)          5613\n",
              "Shining Path (SL)                                    4555\n",
              "Farabundo Marti National Liberation Front (FMLN)     3351\n",
              "Al-Shabaab                                           3288\n",
              "New People's Army (NPA)                              2772\n",
              "Irish Republican Army (IRA)                          2671\n",
              "Revolutionary Armed Forces of Colombia (FARC)        2487\n",
              "Boko Haram                                           2418\n",
              "Name: Gang_name, dtype: int64"
            ]
          },
          "metadata": {},
          "execution_count": 28
        }
      ],
      "source": [
        "# top 10 gangs\n",
        "terrorism_df['Gang_name'].value_counts().head(10)"
      ]
    },
    {
      "cell_type": "code",
      "execution_count": 29,
      "metadata": {
        "colab": {
          "base_uri": "https://localhost:8080/"
        },
        "id": "YwySdNDOkWJ6",
        "outputId": "03f35010-92c2-4550-9889-155f61d13357"
      },
      "outputs": [
        {
          "output_type": "execute_result",
          "data": {
            "text/plain": [
              "Explosives    92426\n",
              "Firearms      58524\n",
              "Unknown       15157\n",
              "Incendiary    11135\n",
              "Melee          3655\n",
              "Name: Weapon_type, dtype: int64"
            ]
          },
          "metadata": {},
          "execution_count": 29
        }
      ],
      "source": [
        "# top 5 weapon types used in terror attacks\n",
        "terrorism_df['Weapon_type'].value_counts().head(5)"
      ]
    },
    {
      "cell_type": "code",
      "execution_count": 29,
      "metadata": {
        "id": "ovXbA_JdkWJ7"
      },
      "outputs": [],
      "source": []
    },
    {
      "cell_type": "markdown",
      "metadata": {
        "id": "Ivjh7tZVkWJ8"
      },
      "source": [
        "### Visualization"
      ]
    },
    {
      "cell_type": "code",
      "execution_count": 30,
      "metadata": {
        "colab": {
          "base_uri": "https://localhost:8080/",
          "height": 271
        },
        "id": "PuUV53_bkWJ9",
        "outputId": "8e2fa0b2-07ad-4e36-cff0-e578e78223d6"
      },
      "outputs": [
        {
          "output_type": "display_data",
          "data": {
            "text/plain": [
              "<Figure size 1440x360 with 1 Axes>"
            ],
            "image/png": "[encoded data removed]"
          },
          "metadata": {
            "needs_background": "light"
          }
        }
      ],
      "source": [
        "# weapons used in terror attacks\n",
        "# From following fig we can see that most used weapon type for terror attach are Explosives.\n",
        "# As we can also conclude that Biological weapons are least used type when it comes to terror attack.\n",
        "plt.figure(figsize=(20,5));\n",
        "sns.countplot(x=terrorism_df.Weapon_type);"
      ]
    },
    {
      "cell_type": "code",
      "execution_count": 31,
      "metadata": {
        "colab": {
          "base_uri": "https://localhost:8080/",
          "height": 295
        },
        "id": "9xZ3AX9okWJ-",
        "outputId": "c12ddfcc-37ca-471a-bffb-8e2ace47e266"
      },
      "outputs": [
        {
          "output_type": "display_data",
          "data": {
            "text/plain": [
              "<Figure size 1440x360 with 1 Axes>"
            ],
            "image/png": "[encoded data removed]"
          },
          "metadata": {
            "needs_background": "light"
          }
        }
      ],
      "source": [
        "# terror attacks years wise\n",
        "# most attack happened in 2014 as we can see in the graph\n",
        "# if we see the trend, then from 1970 to 1992 attacks were linearly increasing and they dropped till 2004 and again increased drastically and linearly.\n",
        "\n",
        "plt.figure(figsize=(20,5));\n",
        "plt.xticks(rotation = 90)\n",
        "plt.title('Attacks by Year')\n",
        "sns.countplot(x=terrorism_df.Year);"
      ]
    },
    {
      "cell_type": "code",
      "execution_count": 31,
      "metadata": {
        "id": "MdMb9DvCkWJ_"
      },
      "outputs": [],
      "source": []
    },
    {
      "cell_type": "code",
      "execution_count": 32,
      "metadata": {
        "colab": {
          "base_uri": "https://localhost:8080/",
          "height": 390
        },
        "id": "ir92BzG6kWKA",
        "outputId": "e7eabb95-2927-4981-93bd-6bd794e42b7a"
      },
      "outputs": [
        {
          "output_type": "display_data",
          "data": {
            "text/plain": [
              "<Figure size 1440x360 with 1 Axes>"
            ],
            "image/png": "[encoded data removed]"
          },
          "metadata": {
            "needs_background": "light"
          }
        }
      ],
      "source": [
        "# As we can clearly see that private citizens and properties are mostly targeted by terrorist, may be because these are most easily accessable places than the rest.\n",
        "# Also police and military are the second most targeted types of terrorists.\n",
        "\n",
        "plt.figure(figsize=(20,5));\n",
        "plt.rcParams.update({'font.size':10});\n",
        "plt.xticks(rotation = 90)\n",
        "plt.title('Based on Target type')\n",
        "sns.countplot(x=terrorism_df.Target_type);"
      ]
    },
    {
      "cell_type": "code",
      "execution_count": 32,
      "metadata": {
        "id": "SZIUpslbkWKA"
      },
      "outputs": [],
      "source": []
    },
    {
      "cell_type": "code",
      "execution_count": 33,
      "metadata": {
        "colab": {
          "base_uri": "https://localhost:8080/",
          "height": 231
        },
        "id": "7KIDStkHkWKB",
        "outputId": "46a65e6b-dba5-45ac-807e-a6bf6f379d4a"
      },
      "outputs": [
        {
          "output_type": "display_data",
          "data": {
            "text/plain": [
              "<Figure size 1800x360 with 1 Axes>"
            ],
            "image/png": "[encoded data removed]"
          },
          "metadata": {
            "needs_background": "light"
          }
        }
      ],
      "source": [
        "# As we can see most attack types used by terrorists are armed assaults and explosives.\n",
        "# Also, we can see some attack types unarmed also.\n",
        "plt.figure(figsize=(25,5));\n",
        "plt.rcParams.update({'font.size':12});\n",
        "plt.xticks(rotation = 0)\n",
        "plt.title('Based on Attack type')\n",
        "sns.countplot(x=terrorism_df.Attack_type);"
      ]
    },
    {
      "cell_type": "code",
      "execution_count": 33,
      "metadata": {
        "id": "8qxzBLrWkWKC"
      },
      "outputs": [],
      "source": []
    },
    {
      "cell_type": "code",
      "execution_count": 33,
      "metadata": {
        "id": "Y193cnoLkWKC"
      },
      "outputs": [],
      "source": []
    },
    {
      "cell_type": "code",
      "execution_count": 33,
      "metadata": {
        "id": "X4Iz6z12kWKC"
      },
      "outputs": [],
      "source": []
    },
    {
      "cell_type": "code",
      "execution_count": 34,
      "metadata": {
        "colab": {
          "base_uri": "https://localhost:8080/",
          "height": 411
        },
        "id": "S4320ECPkWKD",
        "outputId": "1cf78fc2-02d5-434e-98ac-9e4fc62fd136"
      },
      "outputs": [
        {
          "output_type": "display_data",
          "data": {
            "text/plain": [
              "<Figure size 720x504 with 1 Axes>"
            ],
            "image/png": "[encoded data removed]"
          },
          "metadata": {}
        }
      ],
      "source": [
        "# top 5 gang names \n",
        "# As seen in figure below we can see that around 80% attacks done by unknown terrorist groups\n",
        "# and also we can see that second most attacks done by taliban gang.\n",
        "\n",
        "plt.figure(figsize=(10, 7))\n",
        "labels = terrorism_df['Gang_name'].value_counts().head(5).index\n",
        "\n",
        "plt.pie(terrorism_df['Gang_name'].value_counts().head(5),\n",
        "        labels = labels, autopct='%1.0f%%')\n",
        "\n",
        "plt.show()"
      ]
    },
    {
      "cell_type": "code",
      "execution_count": 34,
      "metadata": {
        "id": "tLpos5KzkWKE"
      },
      "outputs": [],
      "source": []
    },
    {
      "cell_type": "code",
      "execution_count": 34,
      "metadata": {
        "id": "pzqC-8d3kWKE"
      },
      "outputs": [],
      "source": []
    },
    {
      "cell_type": "code",
      "execution_count": 35,
      "metadata": {
        "id": "om-nkfiXkWKE"
      },
      "outputs": [],
      "source": [
        "# top 10 countries with most terrorist attacks"
      ]
    },
    {
      "cell_type": "code",
      "execution_count": 36,
      "metadata": {
        "colab": {
          "base_uri": "https://localhost:8080/",
          "height": 431
        },
        "id": "Z2-xymf1kWKF",
        "outputId": "b5946a75-0290-4af1-8075-df49eab402df"
      },
      "outputs": [
        {
          "output_type": "display_data",
          "data": {
            "text/plain": [
              "<Figure size 720x504 with 1 Axes>"
            ],
            "image/png": "[encoded data removed]"
          },
          "metadata": {
            "needs_background": "light"
          }
        }
      ],
      "source": [
        "to_10_countries = terrorism_df['Country'].value_counts().head(10)\n",
        "plt.figure(figsize=(10, 7))\n",
        "sns.barplot(x = to_10_countries.values, y = to_10_countries.index)\n",
        "plt.show()"
      ]
    },
    {
      "cell_type": "code",
      "execution_count": 36,
      "metadata": {
        "id": "PsXpQXHpkWKF"
      },
      "outputs": [],
      "source": []
    },
    {
      "cell_type": "code",
      "execution_count": 36,
      "metadata": {
        "id": "HywOPvNckWKG"
      },
      "outputs": [],
      "source": []
    },
    {
      "cell_type": "code",
      "execution_count": 37,
      "metadata": {
        "id": "ZRxkrO2BBFpB",
        "colab": {
          "base_uri": "https://localhost:8080/",
          "height": 431
        },
        "outputId": "198c9df1-60cf-4c0e-9862-fb6b18ad32fc"
      },
      "outputs": [
        {
          "output_type": "display_data",
          "data": {
            "text/plain": [
              "<Figure size 720x504 with 1 Axes>"
            ],
            "image/png": "[encoded data removed]"
          },
          "metadata": {
            "needs_background": "light"
          }
        }
      ],
      "source": [
        "# top 30 countries with comparitively least terrorist attacks\n",
        "least_10_countries = terrorism_df['Country'].value_counts().tail(30)\n",
        "plt.figure(figsize=(10, 7))\n",
        "sns.barplot(x = least_10_countries.values, y = least_10_countries.index)\n",
        "plt.show()"
      ]
    },
    {
      "cell_type": "code",
      "execution_count": 37,
      "metadata": {
        "id": "P112pV6XkWKH"
      },
      "outputs": [],
      "source": []
    },
    {
      "cell_type": "code",
      "execution_count": 38,
      "metadata": {
        "colab": {
          "base_uri": "https://localhost:8080/",
          "height": 411
        },
        "id": "hIGLpvXLkWKH",
        "outputId": "f648691c-2d65-4b42-bb92-272cd65ac5a4"
      },
      "outputs": [
        {
          "output_type": "display_data",
          "data": {
            "text/plain": [
              "<Figure size 720x504 with 1 Axes>"
            ],
            "image/png": "[encoded data removed]"
          },
          "metadata": {}
        }
      ],
      "source": [
        "# Region wise attacks distribution\n",
        "plt.figure(figsize=(10, 7))\n",
        "labels = terrorism_df['Region'].value_counts().head(5).index\n",
        "\n",
        "plt.pie(terrorism_df['Region'].value_counts().head(5),\n",
        "        labels = labels, autopct='%1.0f%%')\n",
        "\n",
        "plt.show()"
      ]
    },
    {
      "cell_type": "code",
      "execution_count": 38,
      "metadata": {
        "id": "P_Rj2gROkWKJ"
      },
      "outputs": [],
      "source": []
    },
    {
      "cell_type": "code",
      "execution_count": 38,
      "metadata": {
        "id": "XbGji3SBkWKJ"
      },
      "outputs": [],
      "source": []
    }
  ],
  "metadata": {
    "colab": {
      "provenance": []
    },
    "kernelspec": {
      "display_name": "Python 3",
      "language": "python",
      "name": "python3"
    },
    "language_info": {
      "codemirror_mode": {
        "name": "ipython",
        "version": 3
      },
      "file_extension": ".py",
      "mimetype": "text/x-python",
      "name": "python",
      "nbconvert_exporter": "python",
      "pygments_lexer": "ipython3",
      "version": "3.8.5"
    }
  },
  "nbformat": 4,
  "nbformat_minor": 0
}